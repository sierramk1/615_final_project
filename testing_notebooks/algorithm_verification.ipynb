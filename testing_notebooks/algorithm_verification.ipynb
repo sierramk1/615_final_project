{
 "cells": [
  {
   "cell_type": "markdown",
   "metadata": {},
   "source": [
    "# Algorithm Verification Notebook\n",
    "\n",
    "This notebook is used to test our custom optimization algorithms against the trusted implementations in the SciPy library. We will test the following algorithms:\n",
    "\n",
    "1. Bisection Method\n",
    "2. Golden Section Search\n",
    "3. Newton-Raphson Method\n",
    "4. Secant Method"
   ]
  },
  {
   "cell_type": "markdown",
   "metadata": {},
   "source": [
    "## 1. Bisection Method Verification"
   ]
  },
  {
   "cell_type": "code",
   "execution_count": null,
   "metadata": {},
   "outputs": [],
   "source": [
    "import numpy as np\n",
    "from scipy.optimize import bisect as scipy_bisect\n",
    "from optimization_algorithms.bisection import bisection as my_bisect\n",
    "\n",
    "# Define a test function\n",
    "f_root = lambda x: x**3 - x - 2\n",
    "\n",
    "# Run implementations\n",
    "my_result = my_bisect(f_root, 1, 2)\n",
    "scipy_result = scipy_bisect(f_root, 1, 2)\n",
    "\n",
    "print(\"--- Bisection Method ---")\n",
    "print(f\"My implementation found root at: {my_result[\'root\']}\")\n",
    "print(f\"SciPy implementation found root at: {scipy_result}\")"
   ]
  },
  {
   "cell_type": "markdown",
   "metadata": {},
   "source": [
    "## 2. Golden Section Search Verification"
   ]
  },
  {
   "cell_type": "code",
   "execution_count": null,
   "metadata": {},
   "outputs": [],
   "source": [
    "from scipy.optimize import golden as scipy_golden\n",
    "from optimization_algorithms.golden_search import golden_search as my_golden\n",
    "\n",
    "# Define a test function to minimize\n",
    "f_min = lambda x: (x - 2)**2 + 1\n",
    "\n",
    "# Run implementations\n",
    "# Note: Our implementation requires a, b, c where f(a) > f(b) and f(c) > f(b)\n",
    "my_result_min = my_golden(f_min, a=1, b=1.5, c=3)\n",
    "scipy_result_min = scipy_golden(f_min, brack=(1, 3))\n",
    "\n",
    "print(\"--- Golden Section Search ---")\n",
    "print(f\"My implementation found minimum at: {my_result_min[\'minimum\']}\")\n",
    "print(f\"SciPy implementation found minimum at: {scipy_result_min}\")"
   ]
  },
  {
   "cell_type": "markdown",
   "metadata": {},
   "source": [
    "## 3. Newton-Raphson Method Verification"
   ]
  },
  {
   "cell_type": "code",
   "execution_count": null,
   "metadata": {},
   "outputs": [],
   "source": [
    "from scipy.optimize import newton as scipy_newton\n",
    "from optimization_algorithms.newton_raphson import newton_raphson as my_newton\n",
    "\n",
    "# Use the same root-finding function as bisection\n",
    "# f_root = lambda x: x**3 - x - 2\n",
    "\n",
    "# Define its derivative for Newton-Raphson\n",
    "fp_root = lambda x: 3*x**2 - 1\n",
    "\n",
    "# Run implementations\n",
    "my_result_newton = my_newton(f_root, fp_root, x0=1.0)\n",
    "scipy_result_newton = scipy_newton(f_root, x0=1.0, fprime=fp_root)\n",
    "\n",
    "print(\"--- Newton-Raphson Method ---")\n",
    "print(f\"My implementation found root at: {my_result_newton[\'root\']}\")\n",
    "print(f\"SciPy implementation found root at: {scipy_result_newton}\")"
   ]
  },
  {
   "cell_type": "markdown",
   "metadata": {},
   "source": [
    "## 4. Secant Method Verification"
   ]
  },
  {
   "cell_type": "code",
   "execution_count": null,
   "metadata": {},
   "outputs": [],
   "source": [
    "from optimization_algorithms.secant import secant as my_secant\n",
    "\n",
    "# SciPy's newton function uses the secant method if the derivative is not provided\n",
    "# We can reuse the f_root function\n",
    "\n",
    "# Run implementations\n",
    "# Note: Your implementation requires two starting points, x0 and x1\n",
    "my_result_secant = my_secant(f_root, x0=1.0, x1=2.0)\n",
    "scipy_result_secant = scipy_newton(f_root, x0=1.0)\n",
    "\n",
    "print(\"--- Secant Method ---")\n",
    "print(f\"My implementation found root at: {my_result_secant[\'root\']}\")\n",
    "print(f\"SciPy implementation found root at: {scipy_result_secant}\")"
   ]
  }
 ],
 "metadata": {
  "kernelspec": {
   "display_name": "Python 3",
   "language": "python",
   "name": "python3"
  },
  "language_info": {
   "codemirror_mode": {
    "name": "ipython",
    "version": 3
   },
   "file_extension": ".py",
   "mimetype": "text/x-python",
   "name": "python",
   "nbconvert_exporter": "python",
   "pygments_lexer": "ipython3",
   "version": "3.9.7"
  }
 },
 "nbformat": 4,
 "nbformat_minor": 4
}